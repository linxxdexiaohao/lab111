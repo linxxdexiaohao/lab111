{
 "cells": [
  {
   "cell_type": "code",
   "execution_count": null,
   "metadata": {
    "collapsed": true
   },
   "outputs": [],
   "source": [
    "from sklearn.externals.joblib import Memory\n",
    "from sklearn.datasets import load_svmlight_file\n",
    "\n",
    "def get_data():\n",
    "    data = load_svmlight_file(\"housing_scale.txt\")\n",
    "    return data[0], data[1]\n",
    "\n",
    "X, y = get_data()\n",
    "import numpy as np\n",
    "from sklearn.model_selection import train_test_split\n",
    "\n",
    "X = X.dot(np.eye(X.shape[1]))\n",
    "o = np.ones((X.shape[0],1))\n",
    "X = np.hstack((X,o))\t\n",
    "y = y.reshape((y.shape[0],1))\n",
    "X_train, X_test, y_train, y_test = train_test_split(X, y, test_size=0.33, random_state=42)\t\n",
    "\n",
    "w = np.zeros((13,1))\t\n",
    "\n",
    "n = 100 \t\n",
    "Ltrain = np.zeros((n))\t\n",
    "Ltest = np.zeros((n))\t\n",
    "def Lfun(w,X,y):\t\n",
    "    m = y.shape[0]\n",
    "    o = np.ones((m,1))\n",
    "    l = o-(X.dot(w))*y\n",
    "    for i in range (m):\n",
    "        if l[i] < 0:\n",
    "            l[i] = 0\n",
    "    return l.sum()+0.5*np.sum(w*w)\n",
    "\n",
    "def DER(w,X,y):\t\n",
    "    m = y.shape[0]\n",
    "    j = (X.dot(w))*y\n",
    "    o = np.zeros((m,1))\n",
    "    for i in range (m):\n",
    "        if j[i] < 1:\n",
    "            o[i] = y[i]\n",
    "    return -((X.T).dot(o))\n",
    "\n",
    "for i in range (n):   \n",
    "    G = (DER(w,X_train,y_train))\n",
    "    w = w - 0.1*G\n",
    "    Ltrain[i] = Lfun(w,X_train,y_train)\n",
    "    Ltest[i] = Lfun(w,X_test,y_test)\n",
    "\n",
    "import matplotlib.pyplot as plt\t\t\n",
    "x = np.arange(0,n,1)\n",
    "plt.plot(x, Ltrain,  'r',label = 'training')\n",
    "plt.plot(x, Ltest,  'b',label = 'testing')\n",
    "plt.legend(loc='upper right')\n",
    "plt.xlabel('Times of iteration')\n",
    "plt.ylabel('Loss')\n",
    "plt.show()"
   ]
  }
 ],
 "metadata": {
  "kernelspec": {
   "display_name": "Python 3",
   "language": "python",
   "name": "python3"
  },
  "language_info": {
   "codemirror_mode": {
    "name": "ipython",
    "version": 3
   },
   "file_extension": ".py",
   "mimetype": "text/x-python",
   "name": "python",
   "nbconvert_exporter": "python",
   "pygments_lexer": "ipython3",
   "version": "3.6.3"
  }
 },
 "nbformat": 4,
 "nbformat_minor": 2
}
